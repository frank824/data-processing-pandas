{
 "cells": [
  {
   "cell_type": "markdown",
   "metadata": {},
   "source": [
    "# Elements of Data Processing (COMP20008) Project Phase 1\n",
    "\n",
    "\n",
    "## Phase 1: Warmup - Python Exercises - Model Answer\n",
    "\n"
   ]
  },
  {
   "cell_type": "code",
   "execution_count": 1,
   "metadata": {
    "collapsed": true
   },
   "outputs": [],
   "source": [
    "#Any general code that you want to reuse in the following answers\n",
    "import pandas as pd\n",
    "import numpy as np\n",
    "import matplotlib.pyplot as plt\n",
    "from pandas.plotting import parallel_coordinates\n",
    "import datetime as dt\n",
    "import calendar"
   ]
  },
  {
   "cell_type": "code",
   "execution_count": 2,
   "metadata": {},
   "outputs": [
    {
     "name": "stdout",
     "output_type": "stream",
     "text": [
      "pickup_datetime      object\n",
      "dropoff_datetime     object\n",
      "trip_distance       float64\n",
      "passenger_count       int64\n",
      "payment_amount      float64\n",
      "duration              int64\n",
      "dtype: object\n"
     ]
    },
    {
     "data": {
      "text/html": [
       "<div>\n",
       "<style>\n",
       "    .dataframe thead tr:only-child th {\n",
       "        text-align: right;\n",
       "    }\n",
       "\n",
       "    .dataframe thead th {\n",
       "        text-align: left;\n",
       "    }\n",
       "\n",
       "    .dataframe tbody tr th {\n",
       "        vertical-align: top;\n",
       "    }\n",
       "</style>\n",
       "<table border=\"1\" class=\"dataframe\">\n",
       "  <thead>\n",
       "    <tr style=\"text-align: right;\">\n",
       "      <th></th>\n",
       "      <th>pickup_datetime</th>\n",
       "      <th>dropoff_datetime</th>\n",
       "      <th>trip_distance</th>\n",
       "      <th>passenger_count</th>\n",
       "      <th>payment_amount</th>\n",
       "      <th>duration</th>\n",
       "    </tr>\n",
       "  </thead>\n",
       "  <tbody>\n",
       "    <tr>\n",
       "      <th>0</th>\n",
       "      <td>14/01/16 17:29</td>\n",
       "      <td>14/01/16 17:40</td>\n",
       "      <td>0.90</td>\n",
       "      <td>1</td>\n",
       "      <td>10.05</td>\n",
       "      <td>11</td>\n",
       "    </tr>\n",
       "    <tr>\n",
       "      <th>1</th>\n",
       "      <td>17/01/16 18:25</td>\n",
       "      <td>17/01/16 18:46</td>\n",
       "      <td>3.46</td>\n",
       "      <td>1</td>\n",
       "      <td>20.00</td>\n",
       "      <td>21</td>\n",
       "    </tr>\n",
       "    <tr>\n",
       "      <th>2</th>\n",
       "      <td>31/01/16 23:31</td>\n",
       "      <td>31/01/16 23:38</td>\n",
       "      <td>2.02</td>\n",
       "      <td>1</td>\n",
       "      <td>72.92</td>\n",
       "      <td>7</td>\n",
       "    </tr>\n",
       "    <tr>\n",
       "      <th>3</th>\n",
       "      <td>16/01/16 22:22</td>\n",
       "      <td>16/01/16 22:29</td>\n",
       "      <td>1.60</td>\n",
       "      <td>1</td>\n",
       "      <td>11.16</td>\n",
       "      <td>7</td>\n",
       "    </tr>\n",
       "    <tr>\n",
       "      <th>4</th>\n",
       "      <td>2/01/16 21:31</td>\n",
       "      <td>2/01/16 21:42</td>\n",
       "      <td>1.99</td>\n",
       "      <td>1</td>\n",
       "      <td>10.80</td>\n",
       "      <td>11</td>\n",
       "    </tr>\n",
       "    <tr>\n",
       "      <th>5</th>\n",
       "      <td>15/01/16 8:32</td>\n",
       "      <td>15/01/16 8:37</td>\n",
       "      <td>0.70</td>\n",
       "      <td>1</td>\n",
       "      <td>6.30</td>\n",
       "      <td>5</td>\n",
       "    </tr>\n",
       "    <tr>\n",
       "      <th>6</th>\n",
       "      <td>19/01/16 16:01</td>\n",
       "      <td>19/01/16 16:10</td>\n",
       "      <td>0.95</td>\n",
       "      <td>2</td>\n",
       "      <td>9.30</td>\n",
       "      <td>9</td>\n",
       "    </tr>\n",
       "    <tr>\n",
       "      <th>7</th>\n",
       "      <td>27/01/16 9:30</td>\n",
       "      <td>27/01/16 9:48</td>\n",
       "      <td>5.10</td>\n",
       "      <td>1</td>\n",
       "      <td>22.80</td>\n",
       "      <td>18</td>\n",
       "    </tr>\n",
       "    <tr>\n",
       "      <th>8</th>\n",
       "      <td>16/01/16 11:06</td>\n",
       "      <td>16/01/16 11:13</td>\n",
       "      <td>1.90</td>\n",
       "      <td>1</td>\n",
       "      <td>9.30</td>\n",
       "      <td>7</td>\n",
       "    </tr>\n",
       "    <tr>\n",
       "      <th>9</th>\n",
       "      <td>22/01/16 16:31</td>\n",
       "      <td>22/01/16 16:49</td>\n",
       "      <td>2.60</td>\n",
       "      <td>1</td>\n",
       "      <td>14.80</td>\n",
       "      <td>18</td>\n",
       "    </tr>\n",
       "  </tbody>\n",
       "</table>\n",
       "</div>"
      ],
      "text/plain": [
       "  pickup_datetime dropoff_datetime  trip_distance  passenger_count  \\\n",
       "0  14/01/16 17:29   14/01/16 17:40           0.90                1   \n",
       "1  17/01/16 18:25   17/01/16 18:46           3.46                1   \n",
       "2  31/01/16 23:31   31/01/16 23:38           2.02                1   \n",
       "3  16/01/16 22:22   16/01/16 22:29           1.60                1   \n",
       "4   2/01/16 21:31    2/01/16 21:42           1.99                1   \n",
       "5   15/01/16 8:32    15/01/16 8:37           0.70                1   \n",
       "6  19/01/16 16:01   19/01/16 16:10           0.95                2   \n",
       "7   27/01/16 9:30    27/01/16 9:48           5.10                1   \n",
       "8  16/01/16 11:06   16/01/16 11:13           1.90                1   \n",
       "9  22/01/16 16:31   22/01/16 16:49           2.60                1   \n",
       "\n",
       "   payment_amount  duration  \n",
       "0           10.05        11  \n",
       "1           20.00        21  \n",
       "2           72.92         7  \n",
       "3           11.16         7  \n",
       "4           10.80        11  \n",
       "5            6.30         5  \n",
       "6            9.30         9  \n",
       "7           22.80        18  \n",
       "8            9.30         7  \n",
       "9           14.80        18  "
      ]
     },
     "execution_count": 2,
     "metadata": {},
     "output_type": "execute_result"
    }
   ],
   "source": [
    "taxi_data_original = pd.read_csv('clean-january-sampled.csv', encoding = 'ISO-8859-1')\n",
    "print(taxi_data_original.dtypes)\n",
    "taxi_data_original.head(10)\n"
   ]
  },
  {
   "cell_type": "markdown",
   "metadata": {},
   "source": [
    "# 1 Adding a new column to the table (3 marks)\n",
    "Read the datafile into a pandas dataframe. Using the values in the trip distance column,\n",
    "determine for each trip whether it should be categorised as a short trip. A short_trip is one\n",
    "that has a distance of less than 3 miles. Record this information in a new column called\n",
    "short_trip where this column has value 1 if a trip is short and value 0 otherwise. Create a\n",
    "new DataFrame with the following schema.\n",
    "\n",
    "\n",
    "Index Short_Trip Trip_distance Passenger_count Payment_amount Duration\n",
    "\n",
    "and use it to then print out the percentage of short trips. The output of this step should look like\n",
    "\n",
    "Question 1\n",
    "\n",
    "% of short trips=#\n",
    "\n",
    "\\***\n",
    "\n",
    "where # is the value you calculate rounded to 1 decimal place."
   ]
  },
  {
   "cell_type": "code",
   "execution_count": 3,
   "metadata": {
    "scrolled": false
   },
   "outputs": [
    {
     "name": "stdout",
     "output_type": "stream",
     "text": [
      "Question 1\n",
      "% of short trips=  71.1\n",
      "***\n"
     ]
    }
   ],
   "source": [
    "#Answer to 1\n",
    "taxi_data_original = pd.read_csv('clean-january-sampled.csv', encoding = 'ISO-8859-1')\n",
    "##### loads a fresh copy from the csv (equals to read_csv) OPTIONAL\n",
    "taxi_data_q1 = taxi_data_original.copy() \n",
    "\n",
    "##### Create the 1-0 short trip column\n",
    "taxi_data_q1['short_trip'] = (taxi_data_q1['trip_distance']< 3.0).astype(int)\n",
    "\n",
    "##### Create the new dataframe with subset of the columns\n",
    "taxi_data_short_trip = taxi_data_q1[['short_trip','trip_distance', 'passenger_count' ,'payment_amount','duration']]\n",
    "taxi_data_short_trip.index.name = 'Index'\n",
    "\n",
    "##### Calculate percentage of short trips\n",
    "perc_short_trips = np.round((taxi_data_q1['short_trip'].sum() / taxi_data_q1.shape[0]) *100,1)\n",
    "print ('Question 1')\n",
    "print('% of short trips= ',perc_short_trips)\n",
    "print('*'*3)"
   ]
  },
  {
   "cell_type": "markdown",
   "metadata": {},
   "source": [
    "# 2 Basic statistics (2 marks)\n",
    "What is the median trip_distance and what is the median trip_duration? Your code should\n",
    "print out the results with the following format:\n",
    "\n",
    "\n",
    "Question 2 median trip_distance\n",
    "\n",
    "January: #\n",
    "\n",
    "\\***\n",
    "\n",
    "Question 2 median trip_duration\n",
    "\n",
    "January: #\n",
    "\n",
    "\\***\n",
    "\n",
    "where STAT is the title of the statistic that you are reporting and # is its value rounded to\n",
    "1 decimal place."
   ]
  },
  {
   "cell_type": "code",
   "execution_count": 4,
   "metadata": {},
   "outputs": [
    {
     "name": "stdout",
     "output_type": "stream",
     "text": [
      "Question 2 median trip distance\n",
      "January:  1.8\n",
      "***\n",
      "\n",
      "Question 2 median trip duration\n",
      "January:  11.0\n",
      "***\n"
     ]
    }
   ],
   "source": [
    "#Answer to 2\n",
    "\n",
    "# loads a fresh copy from the csv (equals to read_csv)\n",
    "taxi_data_q2 = taxi_data_original.copy()\n",
    "\n",
    "print ('Question 2 median trip distance')\n",
    "print('January: ',np.round(taxi_data_q2['trip_distance'].median(),1))\n",
    "print('*'*3)\n",
    "\n",
    "print()\n",
    "print ('Question 2 median trip duration')\n",
    "print('January: ',np.round(taxi_data_q2['duration'].median(),1))\n",
    "print('*'*3)\n"
   ]
  },
  {
   "cell_type": "markdown",
   "metadata": {},
   "source": [
    "# 3 Data cleaning (2 marks)\n",
    "Consider the feature trip_distance. Suppose the ’normal’ range for this feature's values is\n",
    "1.2 ≤ trip_distance ≤ 4.5. Compute the percentage of values that do not fall within this\n",
    "normal range.\n",
    "\n",
    "The output of this step should be a message printed with the following format:\n",
    "\n",
    "Question 3\n",
    "\n",
    "#% of instances in ‘tripdistance’ are abnormal! (normal range is between 1.2 and 4.5)\n",
    "\n",
    "\\***\n",
    "\n",
    "where # is the computed value rounded to one decimal place."
   ]
  },
  {
   "cell_type": "code",
   "execution_count": 5,
   "metadata": {},
   "outputs": [
    {
     "name": "stdout",
     "output_type": "stream",
     "text": [
      "Question 3\n",
      "43.1 % of instances in 'tripdistance' are abnormal! (normal range is between 1.2 and 4.5\n",
      "***\n"
     ]
    }
   ],
   "source": [
    "#Answer to 3\n",
    "\n",
    "### loads a fresh copy from the csv (equals to read_csv)\n",
    "taxi_data_q3 = taxi_data_original.copy()\n",
    "\n",
    "### Finds the abnormal boolean vector using the provided valid range\n",
    "bool_abnormal = (taxi_data_q3['trip_distance'] < 1.2)  | (taxi_data_q3['trip_distance'] > 4.5)\n",
    "\n",
    "### Calculate the percentage of abnormal values (rounded to one decimal place)\n",
    "perc_abnormal = np.round((bool_abnormal.sum()/bool_abnormal.shape[0])*100,1)\n",
    "\n",
    "print ('Question 3')\n",
    "print(perc_abnormal,'% of instances in \\'tripdistance\\' are abnormal! (normal range is between 1.2 and 4.5')\n",
    "print('*'*3)"
   ]
  },
  {
   "cell_type": "markdown",
   "metadata": {},
   "source": [
    "# 4 Visualisation using boxplots (2 marks)\n",
    "\n",
    "Draw a plot consisting of two boxplots. One boxplot to show the distribution of trip fares during the morning period (trip started during the period 07:00 ≤ time ≤ 11:00). One boxplot to show the distribution of trip fares during the afternoon period (trip started during the period 12:00 ≤ time ≤ 15:00 ).\n",
    "\n",
    "tip: pandas.DataFrame.boxplot() draws a boxplot for each column of the DataFrame object\n",
    "\n",
    "tip: pandas.to datetime() converts a string to a datetime object. The time and date information\n",
    "are formatted as ’%d/%m/%y %H:%M’."
   ]
  },
  {
   "cell_type": "code",
   "execution_count": 6,
   "metadata": {
    "scrolled": false
   },
   "outputs": [
    {
     "data": {
      "image/png": "[encoded data removed]",
      "text/plain": [
       "<matplotlib.figure.Figure at 0x9366d30>"
      ]
     },
     "metadata": {},
     "output_type": "display_data"
    },
    {
     "data": {
      "image/png": "[encoded data removed]",
      "text/plain": [
       "<matplotlib.figure.Figure at 0x9e55a90>"
      ]
     },
     "metadata": {},
     "output_type": "display_data"
    },
    {
     "data": {
      "image/png": "[encoded data removed]",
      "text/plain": [
       "<matplotlib.figure.Figure at 0x9edc518>"
      ]
     },
     "metadata": {},
     "output_type": "display_data"
    }
   ],
   "source": [
    "#Answer to 4\n",
    "\n",
    "import datetime as dt\n",
    "taxi_data_original['pickup_datetime']= pd.to_datetime(taxi_data_original['pickup_datetime'], format= '%d/%m/%y %H:%M')\n",
    "taxi_data_original['dropoff_datetime']= pd.to_datetime(taxi_data_original['dropoff_datetime'],format= '%d/%m/%y %H:%M')\n",
    "\n",
    "#####Morning trips period\n",
    "morning_st_time = dt.time(hour=7,minute=0) \n",
    "morning_end_time = dt.time(hour=11,minute=0)\n",
    "\n",
    "#####Noon trips period\n",
    "noon_st_time = dt.time(hour=12,minute=0)\n",
    "noon_end_time = dt.time(hour=15,minute=0)\n",
    "\n",
    "\n",
    "#### Extracting morning and afternoon trips\n",
    "start_morning = taxi_data_original['pickup_datetime'].dt.time >= morning_st_time \n",
    "end_morning = taxi_data_original['pickup_datetime'].dt.time <= morning_end_time\n",
    "\n",
    "start_noon = taxi_data_original['pickup_datetime'].dt.time >= noon_st_time\n",
    "end_noon = taxi_data_original['pickup_datetime'].dt.time <= noon_end_time\n",
    "\n",
    "\n",
    "#### Trip fares for morning and afternoon trips\n",
    "s1= taxi_data_original['payment_amount'][start_morning & end_morning]\n",
    "s2= taxi_data_original['payment_amount'][start_noon & end_noon]\n",
    "\n",
    "#### Plotting results\n",
    "#############Solution 1\n",
    "plt.boxplot([s1,s2])\n",
    "plt.xticks(range(3),[\"\",\"Morning Fares\", \"Afternoon Fares\"])\n",
    "plt.title('Trip Fares by Time of Day')\n",
    "plt.show()\n",
    "\n",
    "\n",
    "#############Solution 2\n",
    "s1.plot.box() # using whis='range' is also accepted as a correct answer\n",
    "plt.title('Trip Fares by Time of Day: morning fares')\n",
    "plt.show()\n",
    "s2.plot.box()# using whis='range' is also accepted as a correct answer\n",
    "plt.title('Trip Fares by Time of Day: afternoon fares')\n",
    "plt.show()"
   ]
  },
  {
   "cell_type": "markdown",
   "metadata": {},
   "source": [
    "# 5 Summary (2 marks)\n",
    "\n",
    "Create a new column isPeak that indicates whether a trip was both started (i.e. the meter was\n",
    "engaged) and completed (i.e. the meter was disengaged) in peak hour (07:00 ≤ time ≤ 08:59\n",
    "on weekdays). It should have value 1 for peak hour trips and value 0 otherwise. Calculate\n",
    "and print out the percentage of trips that are peak hour trips. The output of this step should\n",
    "look like\n",
    "\n",
    "Question 5\n",
    "\n",
    "% of peak hour trips=#\n",
    "\n",
    "\\***\n",
    "\n",
    "where # is the value you calculate rounded to 1 decimal place.\n"
   ]
  },
  {
   "cell_type": "code",
   "execution_count": 7,
   "metadata": {},
   "outputs": [
    {
     "name": "stdout",
     "output_type": "stream",
     "text": [
      "Question 5\n",
      "% of peak hour trips= 6.2\n",
      "***\n"
     ]
    }
   ],
   "source": [
    "#Answer to 5\n",
    "#### loads a fresh copy from the csv (equals to read_csv)\n",
    "taxi_data_q5 = taxi_data_original.copy()\n",
    "\n",
    "\n",
    "\n",
    "#### Peak time interval\n",
    "start_peak_time = dt.time(hour=7,minute=0)\n",
    "end_peak_time = dt.time(hour=8,minute=59)\n",
    "\n",
    "#### .dayofweek property : The day of the week with Monday=0, Sunday=6\n",
    "#### bool_weekdays is boolean vector: true for weekdays trips and false for other trips\n",
    "bool_weekdays =(taxi_data_q5['pickup_datetime'].dt.dayofweek >=0) & (taxi_data_q5['pickup_datetime'].dt.dayofweek <= 4)\n",
    "\n",
    "\n",
    "#### bool_peak_hours_start is boolean vector: true for trips started within the peak interval\n",
    "#### bool_peak_hours_end is boolean vector: true for trips ended within the peak interval\n",
    "bool_peak_hours_start = (taxi_data_q5['pickup_datetime'].dt.time >= start_peak_time) & (taxi_data_q5['pickup_datetime'].dt.time <= end_peak_time)\n",
    "bool_peak_hours_end = (taxi_data_q5['dropoff_datetime'].dt.time >= start_peak_time) & (taxi_data_q5['dropoff_datetime'].dt.time <= end_peak_time)\n",
    "\n",
    "#### isPeak --> int dataframe column with values 1 for trips within the peak interval and not weekends; otherwise 0\n",
    "taxi_data_q5['isPeak'] = (bool_weekdays & bool_peak_hours_start & bool_peak_hours_end).astype(int)\n",
    "\n",
    "\n",
    "#### Calculating the percentage of peak hour trips.\n",
    "perc_peak_houre_trips = np.round((taxi_data_q5['isPeak'].sum()/ taxi_data_q5['isPeak'].shape[0])*100,1)\n",
    "print ('Question 5')\n",
    "print('% of peak hour trips=',perc_peak_houre_trips)\n",
    "print('*'*3)\n"
   ]
  },
  {
   "cell_type": "code",
   "execution_count": 8,
   "metadata": {},
   "outputs": [
    {
     "data": {
      "text/html": [
       "<div>\n",
       "<style>\n",
       "    .dataframe thead tr:only-child th {\n",
       "        text-align: right;\n",
       "    }\n",
       "\n",
       "    .dataframe thead th {\n",
       "        text-align: left;\n",
       "    }\n",
       "\n",
       "    .dataframe tbody tr th {\n",
       "        vertical-align: top;\n",
       "    }\n",
       "</style>\n",
       "<table border=\"1\" class=\"dataframe\">\n",
       "  <thead>\n",
       "    <tr style=\"text-align: right;\">\n",
       "      <th></th>\n",
       "      <th>pickup_datetime</th>\n",
       "      <th>dropoff_datetime</th>\n",
       "      <th>trip_distance</th>\n",
       "      <th>passenger_count</th>\n",
       "      <th>payment_amount</th>\n",
       "      <th>duration</th>\n",
       "      <th>isPeak</th>\n",
       "    </tr>\n",
       "  </thead>\n",
       "  <tbody>\n",
       "    <tr>\n",
       "      <th>0</th>\n",
       "      <td>2016-01-14 17:29:00</td>\n",
       "      <td>2016-01-14 17:40:00</td>\n",
       "      <td>0.90</td>\n",
       "      <td>1</td>\n",
       "      <td>10.05</td>\n",
       "      <td>11</td>\n",
       "      <td>0</td>\n",
       "    </tr>\n",
       "    <tr>\n",
       "      <th>1</th>\n",
       "      <td>2016-01-17 18:25:00</td>\n",
       "      <td>2016-01-17 18:46:00</td>\n",
       "      <td>3.46</td>\n",
       "      <td>1</td>\n",
       "      <td>20.00</td>\n",
       "      <td>21</td>\n",
       "      <td>0</td>\n",
       "    </tr>\n",
       "    <tr>\n",
       "      <th>2</th>\n",
       "      <td>2016-01-31 23:31:00</td>\n",
       "      <td>2016-01-31 23:38:00</td>\n",
       "      <td>2.02</td>\n",
       "      <td>1</td>\n",
       "      <td>72.92</td>\n",
       "      <td>7</td>\n",
       "      <td>0</td>\n",
       "    </tr>\n",
       "    <tr>\n",
       "      <th>3</th>\n",
       "      <td>2016-01-16 22:22:00</td>\n",
       "      <td>2016-01-16 22:29:00</td>\n",
       "      <td>1.60</td>\n",
       "      <td>1</td>\n",
       "      <td>11.16</td>\n",
       "      <td>7</td>\n",
       "      <td>0</td>\n",
       "    </tr>\n",
       "    <tr>\n",
       "      <th>4</th>\n",
       "      <td>2016-01-02 21:31:00</td>\n",
       "      <td>2016-01-02 21:42:00</td>\n",
       "      <td>1.99</td>\n",
       "      <td>1</td>\n",
       "      <td>10.80</td>\n",
       "      <td>11</td>\n",
       "      <td>0</td>\n",
       "    </tr>\n",
       "    <tr>\n",
       "      <th>5</th>\n",
       "      <td>2016-01-15 08:32:00</td>\n",
       "      <td>2016-01-15 08:37:00</td>\n",
       "      <td>0.70</td>\n",
       "      <td>1</td>\n",
       "      <td>6.30</td>\n",
       "      <td>5</td>\n",
       "      <td>1</td>\n",
       "    </tr>\n",
       "    <tr>\n",
       "      <th>6</th>\n",
       "      <td>2016-01-19 16:01:00</td>\n",
       "      <td>2016-01-19 16:10:00</td>\n",
       "      <td>0.95</td>\n",
       "      <td>2</td>\n",
       "      <td>9.30</td>\n",
       "      <td>9</td>\n",
       "      <td>0</td>\n",
       "    </tr>\n",
       "    <tr>\n",
       "      <th>7</th>\n",
       "      <td>2016-01-27 09:30:00</td>\n",
       "      <td>2016-01-27 09:48:00</td>\n",
       "      <td>5.10</td>\n",
       "      <td>1</td>\n",
       "      <td>22.80</td>\n",
       "      <td>18</td>\n",
       "      <td>0</td>\n",
       "    </tr>\n",
       "    <tr>\n",
       "      <th>8</th>\n",
       "      <td>2016-01-16 11:06:00</td>\n",
       "      <td>2016-01-16 11:13:00</td>\n",
       "      <td>1.90</td>\n",
       "      <td>1</td>\n",
       "      <td>9.30</td>\n",
       "      <td>7</td>\n",
       "      <td>0</td>\n",
       "    </tr>\n",
       "    <tr>\n",
       "      <th>9</th>\n",
       "      <td>2016-01-22 16:31:00</td>\n",
       "      <td>2016-01-22 16:49:00</td>\n",
       "      <td>2.60</td>\n",
       "      <td>1</td>\n",
       "      <td>14.80</td>\n",
       "      <td>18</td>\n",
       "      <td>0</td>\n",
       "    </tr>\n",
       "  </tbody>\n",
       "</table>\n",
       "</div>"
      ],
      "text/plain": [
       "      pickup_datetime    dropoff_datetime  trip_distance  passenger_count  \\\n",
       "0 2016-01-14 17:29:00 2016-01-14 17:40:00           0.90                1   \n",
       "1 2016-01-17 18:25:00 2016-01-17 18:46:00           3.46                1   \n",
       "2 2016-01-31 23:31:00 2016-01-31 23:38:00           2.02                1   \n",
       "3 2016-01-16 22:22:00 2016-01-16 22:29:00           1.60                1   \n",
       "4 2016-01-02 21:31:00 2016-01-02 21:42:00           1.99                1   \n",
       "5 2016-01-15 08:32:00 2016-01-15 08:37:00           0.70                1   \n",
       "6 2016-01-19 16:01:00 2016-01-19 16:10:00           0.95                2   \n",
       "7 2016-01-27 09:30:00 2016-01-27 09:48:00           5.10                1   \n",
       "8 2016-01-16 11:06:00 2016-01-16 11:13:00           1.90                1   \n",
       "9 2016-01-22 16:31:00 2016-01-22 16:49:00           2.60                1   \n",
       "\n",
       "   payment_amount  duration  isPeak  \n",
       "0           10.05        11       0  \n",
       "1           20.00        21       0  \n",
       "2           72.92         7       0  \n",
       "3           11.16         7       0  \n",
       "4           10.80        11       0  \n",
       "5            6.30         5       1  \n",
       "6            9.30         9       0  \n",
       "7           22.80        18       0  \n",
       "8            9.30         7       0  \n",
       "9           14.80        18       0  "
      ]
     },
     "execution_count": 8,
     "metadata": {},
     "output_type": "execute_result"
    }
   ],
   "source": [
    "#### Displaying the trips dataframe with the isPeak int column\n",
    "taxi_data_q5.head(10)"
   ]
  },
  {
   "cell_type": "markdown",
   "metadata": {},
   "source": [
    "# 6 Grouping (3 marks)\n",
    "Create a new column called dayofmonth which has values in the range 1-31 and records on\n",
    "which day of the month each trip began (i.e. the meter was engaged). Now draw a bar plot\n",
    "showing dayofmonth (x-axis) versus total number of trips beginning on that day (y-axis).\n"
   ]
  },
  {
   "cell_type": "code",
   "execution_count": 9,
   "metadata": {
    "scrolled": true
   },
   "outputs": [
    {
     "data": {
      "image/png": "[encoded data removed]",
      "text/plain": [
       "<matplotlib.figure.Figure at 0x9bf4a90>"
      ]
     },
     "metadata": {},
     "output_type": "display_data"
    }
   ],
   "source": [
    "#Answer to 6\n",
    "\n",
    "#### loads a fresh copy from the csv (equals to read_csv)\n",
    "taxi_data_q6 = taxi_data_original.copy()\n",
    "\n",
    "#### .day property : The day of the month between 1 and 31\n",
    "taxi_data_q6['dayofmonth'] = taxi_data_q6['pickup_datetime'].dt.day\n",
    "\n",
    "#### use pd['col'].value_counts() to compute the number of trips for each day (i.e. 1-31)\n",
    "res = taxi_data_q6['dayofmonth'].value_counts(sort=False)\n",
    "\n",
    "plt.bar(res.index , res.values)\n",
    "plt.xlabel('Day of month')\n",
    "plt.ylabel('# of trips')\n",
    "plt.title('Total number of trips per day')\n",
    "plt.show()"
   ]
  },
  {
   "cell_type": "markdown",
   "metadata": {},
   "source": [
    "# 7 Scatter plot (4 marks)\n",
    "Create a column dayofweek which records the day of the week (Sunday to Saturday) on which\n",
    "the trip began. Then, compute the mean trip distance and mean payment amount for each day\n",
    "of the week (calculated over all trips which began on that day). Draw a scatter plot showing\n",
    "mean trip distance (y axis) versus mean payment amount for the 7 days of the week. Each\n",
    "day of the week should be plotted in a different colour and there should be an accompanying\n",
    "legend mapping colours to days of the week.\n"
   ]
  },
  {
   "cell_type": "code",
   "execution_count": 11,
   "metadata": {
    "scrolled": true
   },
   "outputs": [
    {
     "name": "stdout",
     "output_type": "stream",
     "text": [
      "###############Solution 1#############\n",
      "\n"
     ]
    },
    {
     "data": {
      "image/png": "[encoded data removed]",
      "text/plain": [
       "<matplotlib.figure.Figure at 0x9efff98>"
      ]
     },
     "metadata": {},
     "output_type": "display_data"
    },
    {
     "name": "stdout",
     "output_type": "stream",
     "text": [
      "###############Solution 2#############\n",
      "\n"
     ]
    },
    {
     "data": {
      "image/png": "[encoded data removed]",
      "text/plain": [
       "<matplotlib.figure.Figure at 0xa0dee10>"
      ]
     },
     "metadata": {},
     "output_type": "display_data"
    },
    {
     "name": "stdout",
     "output_type": "stream",
     "text": [
      "['Monday', 'Tuesday', 'Wednesday', 'Thursday', 'Friday', 'Saturday', 'Sunday']\n"
     ]
    }
   ],
   "source": [
    "#Answer to 7\n",
    "\n",
    "#### loads a fresh copy from the csv (equals to read_csv)\n",
    "taxi_data_q7 = taxi_data_original.copy()\n",
    "taxi_data_q7['dayofweek']  = taxi_data_q7['pickup_datetime'].dt.dayofweek\n",
    "\n",
    "\n",
    "#### List of names of week days (i.e. Monday, Tuesday, ... Sunday )\n",
    "days_names  = list(calendar.day_name)\n",
    "\n",
    "##### Use groupby and agg functions to compute the mean trip distance and mean payment amount for each day of the week\n",
    "res_q7 = taxi_data_q7[['dayofweek','trip_distance','payment_amount']].groupby('dayofweek').agg({'trip_distance':'mean','payment_amount':'mean'})\n",
    "res_q7=res_q7.set_index(pd.Series(days_names))\n",
    "\n",
    "\n",
    "############## Plotting ##################\n",
    "print('###############Solution 1#############')    \n",
    "print()\n",
    "for i in range(len(days_names)):\n",
    "    plt.scatter(res_q7['payment_amount'][i],res_q7['trip_distance'][i],label = days_names[i])\n",
    "plt.xlabel('Payment Amount')\n",
    "plt.ylabel('Trip Distance')\n",
    "plt.legend()\n",
    "plt.title('Mean trip distance vs mean payment amount per week')\n",
    "plt.show()\n",
    "\n",
    "\n",
    "print('###############Solution 2#############')    \n",
    "print()\n",
    "fig, ax = plt.subplots()\n",
    "ax.scatter(res_q7['payment_amount'],res_q7['trip_distance'],c=['r','g','b','c','m','y','k'])\n",
    "plt.xlabel('Payment Amount')\n",
    "plt.ylabel('Trip Distance')\n",
    "for i in range(len(days_names)):\n",
    "    ax.annotate(days_names[i], (res_q7['payment_amount'][i],res_q7['trip_distance'][i]))    \n",
    "plt.title('Mean trip distance vs mean payment amount per week')\n",
    "plt.show()\n",
    "\n",
    "print(days_names)"
   ]
  },
  {
   "cell_type": "markdown",
   "metadata": {},
   "source": [
    "#  8 Parallel co-ordinates (4 marks)\n",
    "\n",
    "For each of the features trip distance, passenger count and payment amount, normalise its\n",
    "values to lie within the range [0, 1] (0 to 1 inclusive). Use the the following formula for\n",
    "normalising a feature:\n",
    "\n",
    "Using these normalised features, compute the mean trip distance, mean passenger count\n",
    "and mean payment amount for each day of the week. Then, draw a parallel co-ordinates plot,\n",
    "having 7 lines, each corresponding to a different day of the week. The ordering of the features\n",
    "for the plot should be mean trip distance first (leftmost), followed by mean passenger count,\n",
    "followed by mean payment amount. Colour the weekdays in red and the weekends in blue.\n",
    "Provide a legend mapping colours to day type."
   ]
  },
  {
   "cell_type": "code",
   "execution_count": 11,
   "metadata": {
    "scrolled": false
   },
   "outputs": [
    {
     "data": {
      "image/png": "[encoded data removed]",
      "text/plain": [
       "<matplotlib.figure.Figure at 0x9b111d0>"
      ]
     },
     "metadata": {},
     "output_type": "display_data"
    }
   ],
   "source": [
    "#Answer to 8\n",
    "\n",
    "#### Copy a subset from trips dataframe used in Q7 to solve Q8 \n",
    "taxi_data_q8 = taxi_data_q7[['passenger_count','payment_amount','trip_distance','dayofweek']].copy()\n",
    "\n",
    "\n",
    "#### Attribute normalization (i.e. range 0-1)\n",
    "for col in taxi_data_q8.columns[:-1]:\n",
    "    min_val = taxi_data_q8[col].min()\n",
    "    max_val = taxi_data_q8[col].max()\n",
    "    \n",
    "    taxi_data_q8[col]= (taxi_data_q8[col] - min_val )/(max_val-min_val)\n",
    "\n",
    "#### List of names of week days (i.e. Monday, Tuesday, ... Sunday )\n",
    "days_names  = list(calendar.day_name)\n",
    "\n",
    "##### Use groupby and agg functions to compute the mean trip distance, mean passenger count and mean payment amount for each day of the week\n",
    "res_q8 = taxi_data_q8.groupby('dayofweek').agg({'trip_distance':'mean','passenger_count':'mean','payment_amount':'mean'})\n",
    "res_q8['dayofweek'] = pd.Series(days_names)\n",
    "res_q8.loc[0:4,'daytype'] = 'Weekdays'\n",
    "res_q8.loc[5:,'daytype'] = 'Weekends'\n",
    "\n",
    "\n",
    "################ Plotting\n",
    "parallel_coordinates(res_q8[['trip_distance','passenger_count','payment_amount','daytype']],'daytype',color=[\"r\",\"b\"])\n",
    "plt.title('Parallel coordinates plot for trip distance, mean passenger count and mean payment')\n",
    "plt.show()"
   ]
  },
  {
   "cell_type": "markdown",
   "metadata": {},
   "source": [
    "# 9 Pie Chart (4 marks)\n",
    "Create a new column called minutes_travelling, which for each trip is equal to the passenger_count multiplied by the trip_duration. Create a pie chart showing the mean minutes_travelling for each day of the week. Each of the 7 slices of the pie should have a different colour and contain a percentage number listing its relative size. Each slice of the pie should have a label next to it indicating which day of the week it corresponds to."
   ]
  },
  {
   "cell_type": "code",
   "execution_count": 15,
   "metadata": {
    "scrolled": false
   },
   "outputs": [
    {
     "data": {
      "image/png": "[encoded data removed]",
      "text/plain": [
       "<matplotlib.figure.Figure at 0x9f35860>"
      ]
     },
     "metadata": {},
     "output_type": "display_data"
    }
   ],
   "source": [
    "#Answer to 9\n",
    "\n",
    "#### Again, copy a subset from trips dataframe used in Q7 to solve Q9 \n",
    "taxi_data_q9 =taxi_data_q7[['dayofweek']].copy()\n",
    "\n",
    "#### Add a column with the minutes travelling\n",
    "taxi_data_q9['minutes_travelling'] = taxi_data_original.loc[:,'passenger_count']*taxi_data_original.loc[:,'duration']\n",
    "days_names  = list(calendar.day_name)\n",
    "\n",
    "##### Use groupby and agg functions to compute the mean minutes travelling for each day of the week\n",
    "res_q9 = taxi_data_q9[['dayofweek','minutes_travelling']].groupby('dayofweek').agg({'minutes_travelling':'mean'})\n",
    "res_q9=res_q9.set_index(pd.Series(days_names))\n",
    "\n",
    "##################### Plotting\n",
    "res_q9.minutes_travelling.plot.pie(autopct='%1.1f%%',colors=['r','g','b','c','m','y','w'])\n",
    "plt.xlabel('minutes_travelling')\n",
    "plt.axis('equal')\n",
    "plt.ylabel(\"\")\n",
    "plt.title('Minutes travelling per day - Pie chart')\n",
    "plt.show()\n"
   ]
  },
  {
   "cell_type": "markdown",
   "metadata": {},
   "source": [
    "# 10 Another Scatter Plot - harder (5 marks)\n",
    "\n",
    "For each day of the month (1-31), compute the maximum number of trips occurring within\n",
    "any 60 minute period on that day. This 60min period must start and end on that day, but does\n",
    "not need to begin exactly on the boundary of an hour. It can be defined by the time window\n",
    "Start time ≤ time < Start time + 60. Call this max_trips_60min_day. Create a scatter plot of\n",
    "31 points, whose x-axis is day of the month (1-31) and y-axis is max_trips_60min_day. Colour\n",
    "weekdays red and weekends blue. Include a legend that explains the colour mapping."
   ]
  },
  {
   "cell_type": "code",
   "execution_count": 13,
   "metadata": {
    "scrolled": true
   },
   "outputs": [
    {
     "data": {
      "image/png": "[encoded data removed]",
      "text/plain": [
       "<matplotlib.figure.Figure at 0x9e833c8>"
      ]
     },
     "metadata": {},
     "output_type": "display_data"
    }
   ],
   "source": [
    "#Answer to 10\n",
    "#### No assumption for sorted column (pickup_datetime)\n",
    "\n",
    "#### loads a fresh copy from the csv (equals to read_csv)\n",
    "taxi_data_q10 = taxi_data_original.copy()\n",
    "\n",
    "\n",
    "taxi_data_q10['pickup_day'] = taxi_data_q10['pickup_datetime'].dt.day\n",
    "taxi_data_q10['dropoff_day'] = taxi_data_q10['dropoff_datetime'].dt.day\n",
    "taxi_data_q10['start_time'] = taxi_data_q10['pickup_datetime'].dt.time\n",
    "taxi_data_q10['end_time'] = taxi_data_q10['dropoff_datetime'].dt.time\n",
    "\n",
    "\n",
    "##### Step 1: group trips by pickup day\n",
    "groupbyday = taxi_data_q10.groupby('pickup_day')\n",
    "index = 0\n",
    "t_delta = dt.timedelta(minutes=60)\n",
    "\n",
    "##### max_trips_60min_day at cell i conntains the max number of trip happened within an hour in day i\n",
    "max_trips_60min_day = np.zeros(32,np.int)\n",
    "weekdays = []\n",
    "weekends = []\n",
    "for i,df_per_day in groupbyday:\n",
    "   \n",
    "    # find subset from the dataframe with all trips happened on that day # with duration less than or equal to 60min\n",
    "    df_per_day_filtered = df_per_day[(df_per_day['duration'] <= 60) & (df_per_day['dropoff_day'] == i)] # filter out any trip with duration more than 60min or happened through 2 days\n",
    "    \n",
    "    for k in range (df_per_day_filtered.shape[0]):\n",
    "        t = df_per_day_filtered.iloc[k,8] # 'start_time' index 8\n",
    "        t_end = df_per_day_filtered.iloc[k,0] + t_delta # 'pickup_datetime' index 0\n",
    "        \n",
    "        # find all trips within the interval of t : t+60 \n",
    "        ################### Trips should end within the interval \n",
    "        ################### Check xx<=time<xxx\n",
    "        trips_flag = (df_per_day_filtered['start_time'] >= t) & (df_per_day_filtered['end_time'] < (t_end.time()))\n",
    "        trips_num = np.sum(trips_flag)\n",
    "        if (trips_num > max_trips_60min_day[i]):\n",
    "            #print(trips_num)\n",
    "            max_trips_60min_day[i] = trips_num\n",
    "    \n",
    "    \n",
    "    \n",
    "    ############### getting day type for plotting (colour)\n",
    "    day_index = (df_per_day['pickup_datetime'].dt.dayofweek).values[0]   \n",
    "    if (day_index >=0) & (day_index<=4):\n",
    "        weekdays.append(i)\n",
    "    else: \n",
    "        weekends.append(i)\n",
    "    \n",
    "plt.scatter(weekdays,max_trips_60min_day[weekdays], c='r', label = \"Weekdays\")\n",
    "plt.scatter(weekends,max_trips_60min_day[weekends], c='b', label = \"Weekends\")    \n",
    "plt.xlabel('Day of Month')\n",
    "plt.ylabel('Max Trips 60min Day')\n",
    "plt.legend()\n",
    "plt.title('Maximum # of trips within 60min interval (per day)')\n",
    "plt.show()"
   ]
  },
  {
   "cell_type": "code",
   "execution_count": null,
   "metadata": {
    "collapsed": true
   },
   "outputs": [],
   "source": []
  }
 ],
 "metadata": {
  "kernelspec": {
   "display_name": "Python 3",
   "language": "python",
   "name": "python3"
  },
  "language_info": {
   "codemirror_mode": {
    "name": "ipython",
    "version": 3
   },
   "file_extension": ".py",
   "mimetype": "text/x-python",
   "name": "python",
   "nbconvert_exporter": "python",
   "pygments_lexer": "ipython3",
   "version": "3.6.4"
  }
 },
 "nbformat": 4,
 "nbformat_minor": 1
}
